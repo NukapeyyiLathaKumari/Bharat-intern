{
  "nbformat": 4,
  "nbformat_minor": 0,
  "metadata": {
    "colab": {
      "provenance": []
    },
    "kernelspec": {
      "name": "python3",
      "display_name": "Python 3"
    },
    "language_info": {
      "name": "python"
    }
  },
  "cells": [
    {
      "cell_type": "code",
      "execution_count": 1,
      "metadata": {
        "colab": {
          "base_uri": "https://localhost:8080/"
        },
        "id": "c_x2lSNHJHr9",
        "outputId": "10fc3d81-74cc-41a2-e278-17e1c0a7a97b"
      },
      "outputs": [
        {
          "output_type": "stream",
          "name": "stdout",
          "text": [
            "Collecting scikit-surprise\n",
            "  Downloading scikit_surprise-1.1.4.tar.gz (154 kB)\n",
            "\u001b[2K     \u001b[90m━━━━━━━━━━━━━━━━━━━━━━━━━━━━━━━━━━━━━━━━\u001b[0m \u001b[32m154.4/154.4 kB\u001b[0m \u001b[31m1.2 MB/s\u001b[0m eta \u001b[36m0:00:00\u001b[0m\n",
            "\u001b[?25h  Installing build dependencies ... \u001b[?25l\u001b[?25hdone\n",
            "  Getting requirements to build wheel ... \u001b[?25l\u001b[?25hdone\n",
            "  Preparing metadata (pyproject.toml) ... \u001b[?25l\u001b[?25hdone\n",
            "Requirement already satisfied: joblib>=1.2.0 in /usr/local/lib/python3.10/dist-packages (from scikit-surprise) (1.4.2)\n",
            "Requirement already satisfied: numpy>=1.19.5 in /usr/local/lib/python3.10/dist-packages (from scikit-surprise) (1.25.2)\n",
            "Requirement already satisfied: scipy>=1.6.0 in /usr/local/lib/python3.10/dist-packages (from scikit-surprise) (1.11.4)\n",
            "Building wheels for collected packages: scikit-surprise\n",
            "  Building wheel for scikit-surprise (pyproject.toml) ... \u001b[?25l\u001b[?25hdone\n",
            "  Created wheel for scikit-surprise: filename=scikit_surprise-1.1.4-cp310-cp310-linux_x86_64.whl size=2357254 sha256=a48f246845f6e70952f02acc0870cf5fc0f7086e5dab4471157bcca0cd9e9479\n",
            "  Stored in directory: /root/.cache/pip/wheels/4b/3f/df/6acbf0a40397d9bf3ff97f582cc22fb9ce66adde75bc71fd54\n",
            "Successfully built scikit-surprise\n",
            "Installing collected packages: scikit-surprise\n",
            "Successfully installed scikit-surprise-1.1.4\n"
          ]
        }
      ],
      "source": [
        "pip install scikit-surprise\n"
      ]
    },
    {
      "cell_type": "code",
      "source": [
        "# Importing necessary libraries\n",
        "from surprise import Dataset, Reader, SVD\n",
        "from surprise.model_selection import train_test_split\n",
        "from surprise.accuracy import rmse\n",
        "from surprise import accuracy\n",
        "\n",
        "# Load the dataset (example: Movielens dataset)\n",
        "data = Dataset.load_builtin('ml-100k')\n",
        "\n",
        "# Split the dataset into train and test sets\n",
        "trainset, testset = train_test_split(data, test_size=0.2, random_state=42)\n",
        "\n",
        "# Initialize the SVD algorithm\n",
        "algo = SVD()\n",
        "\n",
        "# Train the algorithm on the train set\n",
        "algo.fit(trainset)\n",
        "\n",
        "# Make predictions on the test set\n",
        "predictions = algo.test(testset)\n",
        "\n",
        "# Evaluate predictions\n",
        "rmse_score = accuracy.rmse(predictions)\n",
        "\n",
        "# Example of getting top recommendations for a user\n",
        "user_id = str(196)  # Example user ID\n",
        "user_movies = data.raw_ratings\n",
        "already_watched = set([item[0] for item in user_movies if item[0].startswith(user_id)])\n",
        "unwatched_movies = set([item for item in algo.trainset.all_items() if item not in already_watched])\n",
        "\n",
        "# Generate top N recommendations for the user\n",
        "top_n = {}\n",
        "for movie_id in unwatched_movies:\n",
        "    rating = algo.predict(user_id, movie_id).est\n",
        "    top_n[movie_id] = rating\n",
        "\n",
        "# Sort recommendations by predicted rating\n",
        "sorted_top_n = sorted(top_n.items(), key=lambda x: x[1], reverse=True)\n",
        "\n",
        "# Print top 10 recommended movies\n",
        "print(\"Top 10 Recommended Movies:\")\n",
        "for movie_id, rating in sorted_top_n[:10]:\n",
        "    print(f\"Movie ID: {movie_id}, Predicted Rating: {rating}\")\n"
      ],
      "metadata": {
        "colab": {
          "base_uri": "https://localhost:8080/"
        },
        "id": "gGDlfynUJyB2",
        "outputId": "5f650acf-a282-4ba0-89c5-524eddc345b4"
      },
      "execution_count": 3,
      "outputs": [
        {
          "output_type": "stream",
          "name": "stdout",
          "text": [
            "RMSE: 0.9393\n",
            "Top 10 Recommended Movies:\n",
            "Movie ID: 0, Predicted Rating: 3.481000042239223\n",
            "Movie ID: 1, Predicted Rating: 3.481000042239223\n",
            "Movie ID: 2, Predicted Rating: 3.481000042239223\n",
            "Movie ID: 3, Predicted Rating: 3.481000042239223\n",
            "Movie ID: 4, Predicted Rating: 3.481000042239223\n",
            "Movie ID: 5, Predicted Rating: 3.481000042239223\n",
            "Movie ID: 6, Predicted Rating: 3.481000042239223\n",
            "Movie ID: 7, Predicted Rating: 3.481000042239223\n",
            "Movie ID: 8, Predicted Rating: 3.481000042239223\n",
            "Movie ID: 9, Predicted Rating: 3.481000042239223\n"
          ]
        }
      ]
    },
    {
      "cell_type": "code",
      "source": [],
      "metadata": {
        "id": "xVrBJ5aHJy8b"
      },
      "execution_count": null,
      "outputs": []
    }
  ]
}